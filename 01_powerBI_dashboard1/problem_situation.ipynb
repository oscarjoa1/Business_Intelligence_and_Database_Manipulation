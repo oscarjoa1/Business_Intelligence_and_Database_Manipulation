{
 "cells": [
  {
   "cell_type": "markdown",
   "id": "bc2db79c",
   "metadata": {},
   "source": [
    "# <font color='blue'> Situacão Problema de Venda de Carros - Dashboard 1 </font>"
   ]
  },
  {
   "cell_type": "markdown",
   "id": "909b0960",
   "metadata": {},
   "source": [
    "## Introdução\n",
    "\n",
    "O conjunto de dados em questão é fornecido pelo DSA.\n",
    "Refere-se à venda de automóveis de uma empresa anônima, na qual constam a data da venda, fabricante, local, fabricante,\n",
    "custo de entrega, valor de vendas, curso de vendas e informação dpo cliente.\n",
    "Assim, o CEO da empresa solicita a equipe de análise de dados para saber: i) vendas totais por ano e sua média,\n",
    "                                                                          ii) proporção do custo de entrega por fabricante, \n",
    "                                                                          iii) relão de fabricante, custo de entrega, veículo e valor de venda, e \n",
    "                                                                          iv) custo de mão de obra por estado.\n",
    "Portanto, é feito a preparão dos dados através do software *R* e também por *Power BI*, e a criação de dashboard que responde às perguntas do CEO em *Power BI*. Os códigos em *R* e dashboard em *Power BI* são anexos nesta pasta. \n"
   ]
  },
  {
   "cell_type": "markdown",
   "id": "ea995919",
   "metadata": {},
   "source": [
    "## Resultado"
   ]
  },
  {
   "cell_type": "markdown",
   "id": "798c18f8",
   "metadata": {},
   "source": [
    "<img src=\"01_dashboarVendas_Carros.jpg\">\n"
   ]
  }
 ],
 "metadata": {
  "kernelspec": {
   "display_name": "Python 3 (ipykernel)",
   "language": "python",
   "name": "python3"
  },
  "language_info": {
   "codemirror_mode": {
    "name": "ipython",
    "version": 3
   },
   "file_extension": ".py",
   "mimetype": "text/x-python",
   "name": "python",
   "nbconvert_exporter": "python",
   "pygments_lexer": "ipython3",
   "version": "3.9.13"
  }
 },
 "nbformat": 4,
 "nbformat_minor": 5
}
